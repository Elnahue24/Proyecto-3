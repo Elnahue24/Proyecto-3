{
  "metadata": {
    "kernelspec": {
      "name": "python",
      "display_name": "Python (Pyodide)",
      "language": "python"
    },
    "language_info": {
      "codemirror_mode": {
        "name": "python",
        "version": 3
      },
      "file_extension": ".py",
      "mimetype": "text/x-python",
      "name": "python",
      "nbconvert_exporter": "python",
      "pygments_lexer": "ipython3",
      "version": "3.8"
    }
  },
  "nbformat_minor": 4,
  "nbformat": 4,
  "cells": [
    {
      "cell_type": "code",
      "source": "#Título\n# Análisis de la Inversión Extranjera Directa\n## México, Argentina, Suecia (2019-2023)\n",
      "metadata": {
        "trusted": true
      },
      "outputs": [],
      "execution_count": 1
    },
    {
      "cell_type": "code",
      "source": "#Introducción\n#Este análisis examina la evolución de la inversión extranjera directa (IED) en México, Argentina y Suecia. \n#Se utilizaron datos extraídos manualmente de diversas fuentes oficiales.\n#El trabajo aborda las etapas de Data Mining, Data Cleaning, Data Analysis y Data Visualization, respondiendo a la pregunta:\n#**¿Cómo ha evolucionado la IED en estos países durante los últimos años?**\n",
      "metadata": {
        "trusted": true
      },
      "outputs": [],
      "execution_count": 2
    },
    {
      "cell_type": "code",
      "source": "#Enlaces con los datos\n### Fuentes de los datos:\n#- **México**: [Enlace al informe oficial](https://www.gob.mx/cms/uploads/attachment/file/945218/20240905_Informe_Congreso_2024_2T.pdf)\n#- **Argentina**: [Datos regionales](https://agenda2030lac.org/estadisticas/banco-datos-regional-seguimiento-ods.html?indicator_id=4231&lang=es)\n#- **Suecia**: [Banco Mundial](https://datos.bancomundial.org/indicador/BN.KLT.DINV.CD?locations=SE&view=chart)\n",
      "metadata": {
        "trusted": true
      },
      "outputs": [],
      "execution_count": 3
    },
    {
      "cell_type": "code",
      "source": "#carga de datos\nimport pandas as pd\nimport matplotlib.pyplot as plt\nimport seaborn as sns\n\n# --- Data Mining: Cargar datos simulados (deben extraerse manualmente de los enlaces) ---\nmexico_data = {\n    \"Year\": [2019, 2020, 2021, 2022, 2023],\n    \"IED (USD millones)\": [35000, 29000, 32000, 34000, 36000]\n}\nmexico_df = pd.DataFrame(mexico_data)\n\nargentina_data = {\n    \"Year\": [2019, 2020, 2021, 2022, 2023],\n    \"IED (USD millones)\": [11000, 9500, 8700, 10200, 11500]\n}\nargentina_df = pd.DataFrame(argentina_data)\n\nsweden_data = {\n    \"Year\": [2019, 2020, 2021, 2022, 2023],\n    \"IED (USD millones)\": [15000, 15500, 16000, 17000, 16500]\n}\nsweden_df = pd.DataFrame(sweden_data)\n",
      "metadata": {
        "trusted": true
      },
      "outputs": [],
      "execution_count": 4
    },
    {
      "cell_type": "code",
      "source": "#Limpieza de datos\n# --- Data Cleaning: Validar, limpiar y preparar los datos ---\nmexico_df.rename(columns={\"IED (USD millones)\": \"IED\"}, inplace=True)\nargentina_df.rename(columns={\"IED (USD millones)\": \"IED\"}, inplace=True)\nsweden_df.rename(columns={\"IED (USD millones)\": \"IED\"}, inplace=True)\n\nall_data = pd.concat(\n    [\n        mexico_df.assign(Country=\"Mexico\"),\n        argentina_df.assign(Country=\"Argentina\"),\n        sweden_df.assign(Country=\"Sweden\"),\n    ]\n)\n\nprint(\"Datos combinados:\")\nprint(all_data.head())",
      "metadata": {
        "trusted": true
      },
      "outputs": [
        {
          "ename": "<class 'NameError'>",
          "evalue": "name 'mexico_df' is not defined",
          "traceback": [
            "\u001b[0;31m---------------------------------------------------------------------------\u001b[0m",
            "\u001b[0;31mNameError\u001b[0m                                 Traceback (most recent call last)",
            "Cell \u001b[0;32mIn[6], line 3\u001b[0m\n\u001b[1;32m      1\u001b[0m \u001b[38;5;66;03m#Limpieza de datos\u001b[39;00m\n\u001b[1;32m      2\u001b[0m \u001b[38;5;66;03m# --- Data Cleaning: Validar, limpiar y preparar los datos ---\u001b[39;00m\n\u001b[0;32m----> 3\u001b[0m \u001b[43mmexico_df\u001b[49m\u001b[38;5;241m.\u001b[39mrename(columns\u001b[38;5;241m=\u001b[39m{\u001b[38;5;124m\"\u001b[39m\u001b[38;5;124mIED (USD millones)\u001b[39m\u001b[38;5;124m\"\u001b[39m: \u001b[38;5;124m\"\u001b[39m\u001b[38;5;124mIED\u001b[39m\u001b[38;5;124m\"\u001b[39m}, inplace\u001b[38;5;241m=\u001b[39m\u001b[38;5;28;01mTrue\u001b[39;00m)\n\u001b[1;32m      4\u001b[0m argentina_df\u001b[38;5;241m.\u001b[39mrename(columns\u001b[38;5;241m=\u001b[39m{\u001b[38;5;124m\"\u001b[39m\u001b[38;5;124mIED (USD millones)\u001b[39m\u001b[38;5;124m\"\u001b[39m: \u001b[38;5;124m\"\u001b[39m\u001b[38;5;124mIED\u001b[39m\u001b[38;5;124m\"\u001b[39m}, inplace\u001b[38;5;241m=\u001b[39m\u001b[38;5;28;01mTrue\u001b[39;00m)\n\u001b[1;32m      5\u001b[0m sweden_df\u001b[38;5;241m.\u001b[39mrename(columns\u001b[38;5;241m=\u001b[39m{\u001b[38;5;124m\"\u001b[39m\u001b[38;5;124mIED (USD millones)\u001b[39m\u001b[38;5;124m\"\u001b[39m: \u001b[38;5;124m\"\u001b[39m\u001b[38;5;124mIED\u001b[39m\u001b[38;5;124m\"\u001b[39m}, inplace\u001b[38;5;241m=\u001b[39m\u001b[38;5;28;01mTrue\u001b[39;00m)\n",
            "\u001b[0;31mNameError\u001b[0m: name 'mexico_df' is not defined"
          ],
          "output_type": "error"
        }
      ],
      "execution_count": 6
    },
    {
      "cell_type": "code",
      "source": "#Análisis\n# --- Data Analysis: Análisis descriptivo y tendencias ---\nall_data[\"Growth (%)\"] = all_data.groupby(\"Country\")[\"IED\"].pct_change() * 100\n\n# Estadísticas descriptivas\nprint(\"Estadísticas descriptivas generales:\")\nprint(all_data.groupby(\"Country\")[\"IED\"].describe())\n\n# Tendencias por año y país\ntrends = all_data.pivot(index=\"Year\", columns=\"Country\", values=\"IED\")\nprint(\"Tendencias:\\n\", trends)\n\n",
      "metadata": {
        "trusted": true
      },
      "outputs": [
        {
          "ename": "<class 'NameError'>",
          "evalue": "name 'all_data' is not defined",
          "traceback": [
            "\u001b[0;31m---------------------------------------------------------------------------\u001b[0m",
            "\u001b[0;31mNameError\u001b[0m                                 Traceback (most recent call last)",
            "Cell \u001b[0;32mIn[8], line 3\u001b[0m\n\u001b[1;32m      1\u001b[0m \u001b[38;5;66;03m#Análisis\u001b[39;00m\n\u001b[1;32m      2\u001b[0m \u001b[38;5;66;03m# --- Data Analysis: Análisis descriptivo y tendencias ---\u001b[39;00m\n\u001b[0;32m----> 3\u001b[0m all_data[\u001b[38;5;124m\"\u001b[39m\u001b[38;5;124mGrowth (\u001b[39m\u001b[38;5;124m%\u001b[39m\u001b[38;5;124m)\u001b[39m\u001b[38;5;124m\"\u001b[39m] \u001b[38;5;241m=\u001b[39m \u001b[43mall_data\u001b[49m\u001b[38;5;241m.\u001b[39mgroupby(\u001b[38;5;124m\"\u001b[39m\u001b[38;5;124mCountry\u001b[39m\u001b[38;5;124m\"\u001b[39m)[\u001b[38;5;124m\"\u001b[39m\u001b[38;5;124mIED\u001b[39m\u001b[38;5;124m\"\u001b[39m]\u001b[38;5;241m.\u001b[39mpct_change() \u001b[38;5;241m*\u001b[39m \u001b[38;5;241m100\u001b[39m\n\u001b[1;32m      5\u001b[0m \u001b[38;5;66;03m# Estadísticas descriptivas\u001b[39;00m\n\u001b[1;32m      6\u001b[0m \u001b[38;5;28mprint\u001b[39m(\u001b[38;5;124m\"\u001b[39m\u001b[38;5;124mEstadísticas descriptivas generales:\u001b[39m\u001b[38;5;124m\"\u001b[39m)\n",
            "\u001b[0;31mNameError\u001b[0m: name 'all_data' is not defined"
          ],
          "output_type": "error"
        }
      ],
      "execution_count": 8
    },
    {
      "cell_type": "code",
      "source": "#Tendecia\n# Visualización de la evolución de la IED\nplt.figure(figsize=(12, 6))\nsns.lineplot(data=all_data, x=\"Year\", y=\"IED\", hue=\"Country\", marker=\"o\")\n\nplt.title(\"Evolución de la Inversión Extranjera Directa (2019-2023)\", fontsize=14)\nplt.xlabel(\"Año\", fontsize=12)\nplt.ylabel(\"IED (en millones de USD)\", fontsize=12)\nplt.legend(title=\"País\")\nplt.grid(True)\nplt.tight_layout()\nplt.show()\n",
      "metadata": {
        "trusted": true
      },
      "outputs": [],
      "execution_count": null
    },
    {
      "cell_type": "code",
      "source": "#Crecimiento\n# Visualización del crecimiento porcentual\nplt.figure(figsize=(12, 6))\nsns.barplot(data=all_data.dropna(), x=\"Year\", y=\"Growth (%)\", hue=\"Country\")\n\nplt.title(\"Crecimiento Anual de la IED por País (2019-2023)\", fontsize=14)\nplt.xlabel(\"Año\", fontsize=12)\nplt.ylabel(\"Crecimiento (%)\", fontsize=12)\nplt.legend(title=\"País\")\nplt.grid(axis=\"y\")\nplt.tight_layout()\nplt.show()\n",
      "metadata": {
        "trusted": true
      },
      "outputs": [],
      "execution_count": null
    },
    {
      "cell_type": "code",
      "source": "#Conclusión \n### Conclusión\nLa visualización demuestra cómo ha evolucionado la inversión extranjera directa (IED) en México, Argentina y Suecia. \n1. México muestra una recuperación gradual desde la caída en 2020.\n2. Argentina enfrenta fluctuaciones con una ligera recuperación en 2023.\n3. Suecia presenta una tendencia más estable con un crecimiento sostenido.\n\nEstos resultados reflejan las dinámicas económicas de cada país y destacan la importancia de mantener políticas que atraigan inversión extranjera.\n",
      "metadata": {
        "trusted": true
      },
      "outputs": [],
      "execution_count": null
    }
  ]
}